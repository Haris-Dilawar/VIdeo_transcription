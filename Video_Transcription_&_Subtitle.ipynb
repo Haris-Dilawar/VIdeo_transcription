{
  "nbformat": 4,
  "nbformat_minor": 0,
  "metadata": {
    "colab": {
      "provenance": [],
      "gpuType": "T4"
    },
    "kernelspec": {
      "name": "python3",
      "display_name": "Python 3"
    },
    "language_info": {
      "name": "python"
    },
    "accelerator": "GPU"
  },
  "cells": [
    {
      "cell_type": "markdown",
      "source": [
        "# Video Transcription and Subtitling\n",
        "\n",
        "In this notebook, we will perform video transcription and subtitling\n",
        "\n",
        " Initial Setup\n",
        "\n",
        "First, we need to install the required packages and dependencies.\n",
        "\n",
        "We will be using an Nvidia GPU for the execution of the script, and will update and install necessary components in the system.\n",
        "\n"
      ],
      "metadata": {
        "id": "GfXNHByyR_qK"
      }
    },
    {
      "cell_type": "code",
      "source": [
        "!pip install git+https://github.com/dsymbol/decipher"
      ],
      "metadata": {
        "id": "G_UtLi2oM4pm",
        "outputId": "28009fea-e842-4cdb-9a67-5be7b09a0d6b",
        "colab": {
          "base_uri": "https://localhost:8080/"
        }
      },
      "execution_count": null,
      "outputs": [
        {
          "output_type": "stream",
          "name": "stdout",
          "text": [
            "Collecting git+https://github.com/dsymbol/decipher\n",
            "  Cloning https://github.com/dsymbol/decipher to /tmp/pip-req-build-ia20i6e1\n",
            "  Running command git clone --filter=blob:none --quiet https://github.com/dsymbol/decipher /tmp/pip-req-build-ia20i6e1\n",
            "  Resolved https://github.com/dsymbol/decipher to commit bdb676ced6355fbedc98024528452bbe849ae32c\n",
            "  Preparing metadata (setup.py) ... \u001b[?25l\u001b[?25hdone\n",
            "Requirement already satisfied: openai-whisper==20230314 in /usr/local/lib/python3.10/dist-packages (from decipher==0.0.0) (20230314)\n",
            "Requirement already satisfied: click==8.1.3 in /usr/local/lib/python3.10/dist-packages (from decipher==0.0.0) (8.1.3)\n",
            "Requirement already satisfied: ffpb==0.4.1 in /usr/local/lib/python3.10/dist-packages (from decipher==0.0.0) (0.4.1)\n",
            "Requirement already satisfied: tqdm in /usr/local/lib/python3.10/dist-packages (from decipher==0.0.0) (4.65.0)\n",
            "Requirement already satisfied: triton==2.0.0 in /usr/local/lib/python3.10/dist-packages (from openai-whisper==20230314->decipher==0.0.0) (2.0.0)\n",
            "Requirement already satisfied: numba in /usr/local/lib/python3.10/dist-packages (from openai-whisper==20230314->decipher==0.0.0) (0.56.4)\n",
            "Requirement already satisfied: numpy in /usr/local/lib/python3.10/dist-packages (from openai-whisper==20230314->decipher==0.0.0) (1.22.4)\n",
            "Requirement already satisfied: torch in /usr/local/lib/python3.10/dist-packages (from openai-whisper==20230314->decipher==0.0.0) (2.0.1+cu118)\n",
            "Requirement already satisfied: more-itertools in /usr/local/lib/python3.10/dist-packages (from openai-whisper==20230314->decipher==0.0.0) (9.1.0)\n",
            "Requirement already satisfied: tiktoken==0.3.1 in /usr/local/lib/python3.10/dist-packages (from openai-whisper==20230314->decipher==0.0.0) (0.3.1)\n",
            "Requirement already satisfied: ffmpeg-python==0.2.0 in /usr/local/lib/python3.10/dist-packages (from openai-whisper==20230314->decipher==0.0.0) (0.2.0)\n",
            "Requirement already satisfied: future in /usr/local/lib/python3.10/dist-packages (from ffmpeg-python==0.2.0->openai-whisper==20230314->decipher==0.0.0) (0.18.3)\n",
            "Requirement already satisfied: regex>=2022.1.18 in /usr/local/lib/python3.10/dist-packages (from tiktoken==0.3.1->openai-whisper==20230314->decipher==0.0.0) (2022.10.31)\n",
            "Requirement already satisfied: requests>=2.26.0 in /usr/local/lib/python3.10/dist-packages (from tiktoken==0.3.1->openai-whisper==20230314->decipher==0.0.0) (2.27.1)\n",
            "Requirement already satisfied: cmake in /usr/local/lib/python3.10/dist-packages (from triton==2.0.0->openai-whisper==20230314->decipher==0.0.0) (3.25.2)\n",
            "Requirement already satisfied: filelock in /usr/local/lib/python3.10/dist-packages (from triton==2.0.0->openai-whisper==20230314->decipher==0.0.0) (3.12.2)\n",
            "Requirement already satisfied: lit in /usr/local/lib/python3.10/dist-packages (from triton==2.0.0->openai-whisper==20230314->decipher==0.0.0) (16.0.6)\n",
            "Requirement already satisfied: llvmlite<0.40,>=0.39.0dev0 in /usr/local/lib/python3.10/dist-packages (from numba->openai-whisper==20230314->decipher==0.0.0) (0.39.1)\n",
            "Requirement already satisfied: setuptools in /usr/local/lib/python3.10/dist-packages (from numba->openai-whisper==20230314->decipher==0.0.0) (67.7.2)\n",
            "Requirement already satisfied: typing-extensions in /usr/local/lib/python3.10/dist-packages (from torch->openai-whisper==20230314->decipher==0.0.0) (4.7.1)\n",
            "Requirement already satisfied: sympy in /usr/local/lib/python3.10/dist-packages (from torch->openai-whisper==20230314->decipher==0.0.0) (1.11.1)\n",
            "Requirement already satisfied: networkx in /usr/local/lib/python3.10/dist-packages (from torch->openai-whisper==20230314->decipher==0.0.0) (3.1)\n",
            "Requirement already satisfied: jinja2 in /usr/local/lib/python3.10/dist-packages (from torch->openai-whisper==20230314->decipher==0.0.0) (3.1.2)\n",
            "Requirement already satisfied: urllib3<1.27,>=1.21.1 in /usr/local/lib/python3.10/dist-packages (from requests>=2.26.0->tiktoken==0.3.1->openai-whisper==20230314->decipher==0.0.0) (1.26.16)\n",
            "Requirement already satisfied: certifi>=2017.4.17 in /usr/local/lib/python3.10/dist-packages (from requests>=2.26.0->tiktoken==0.3.1->openai-whisper==20230314->decipher==0.0.0) (2023.7.22)\n",
            "Requirement already satisfied: charset-normalizer~=2.0.0 in /usr/local/lib/python3.10/dist-packages (from requests>=2.26.0->tiktoken==0.3.1->openai-whisper==20230314->decipher==0.0.0) (2.0.12)\n",
            "Requirement already satisfied: idna<4,>=2.5 in /usr/local/lib/python3.10/dist-packages (from requests>=2.26.0->tiktoken==0.3.1->openai-whisper==20230314->decipher==0.0.0) (3.4)\n",
            "Requirement already satisfied: MarkupSafe>=2.0 in /usr/local/lib/python3.10/dist-packages (from jinja2->torch->openai-whisper==20230314->decipher==0.0.0) (2.1.3)\n",
            "Requirement already satisfied: mpmath>=0.19 in /usr/local/lib/python3.10/dist-packages (from sympy->torch->openai-whisper==20230314->decipher==0.0.0) (1.3.0)\n"
          ]
        }
      ]
    },
    {
      "cell_type": "code",
      "source": [
        "!nvidia-smi\n",
        "!apt update && apt install ffmpeg fonts-open-sans\n",
        "!pip install git+https://github.com/dsymbol/decipher"
      ],
      "metadata": {
        "id": "cN0cZqgrSGRn",
        "colab": {
          "base_uri": "https://localhost:8080/"
        },
        "outputId": "0555930b-5480-42e9-fd25-d2195f117549"
      },
      "execution_count": null,
      "outputs": [
        {
          "output_type": "stream",
          "name": "stdout",
          "text": [
            "Fri Jul 28 23:29:29 2023       \n",
            "+-----------------------------------------------------------------------------+\n",
            "| NVIDIA-SMI 525.105.17   Driver Version: 525.105.17   CUDA Version: 12.0     |\n",
            "|-------------------------------+----------------------+----------------------+\n",
            "| GPU  Name        Persistence-M| Bus-Id        Disp.A | Volatile Uncorr. ECC |\n",
            "| Fan  Temp  Perf  Pwr:Usage/Cap|         Memory-Usage | GPU-Util  Compute M. |\n",
            "|                               |                      |               MIG M. |\n",
            "|===============================+======================+======================|\n",
            "|   0  Tesla T4            Off  | 00000000:00:04.0 Off |                    0 |\n",
            "| N/A   76C    P0    34W /  70W |   5699MiB / 15360MiB |      0%      Default |\n",
            "|                               |                      |                  N/A |\n",
            "+-------------------------------+----------------------+----------------------+\n",
            "                                                                               \n",
            "+-----------------------------------------------------------------------------+\n",
            "| Processes:                                                                  |\n",
            "|  GPU   GI   CI        PID   Type   Process name                  GPU Memory |\n",
            "|        ID   ID                                                   Usage      |\n",
            "|=============================================================================|\n",
            "+-----------------------------------------------------------------------------+\n",
            "Hit:1 https://cloud.r-project.org/bin/linux/ubuntu jammy-cran40/ InRelease\n",
            "Hit:2 https://developer.download.nvidia.com/compute/cuda/repos/ubuntu2204/x86_64  InRelease\n",
            "Get:3 http://security.ubuntu.com/ubuntu jammy-security InRelease [110 kB]\n",
            "Hit:4 http://archive.ubuntu.com/ubuntu jammy InRelease\n",
            "Get:5 http://archive.ubuntu.com/ubuntu jammy-updates InRelease [119 kB]\n",
            "Get:6 http://archive.ubuntu.com/ubuntu jammy-backports InRelease [108 kB]\n",
            "Hit:7 https://ppa.launchpadcontent.net/c2d4u.team/c2d4u4.0+/ubuntu jammy InRelease\n",
            "Hit:8 https://ppa.launchpadcontent.net/deadsnakes/ppa/ubuntu jammy InRelease\n",
            "Hit:9 https://ppa.launchpadcontent.net/graphics-drivers/ppa/ubuntu jammy InRelease\n",
            "Hit:10 https://ppa.launchpadcontent.net/ubuntugis/ppa/ubuntu jammy InRelease\n",
            "Fetched 337 kB in 2s (163 kB/s)\n",
            "Reading package lists... Done\n",
            "Building dependency tree... Done\n",
            "Reading state information... Done\n",
            "12 packages can be upgraded. Run 'apt list --upgradable' to see them.\n",
            "Reading package lists... Done\n",
            "Building dependency tree... Done\n",
            "Reading state information... Done\n",
            "fonts-open-sans is already the newest version (1.11-2).\n",
            "ffmpeg is already the newest version (7:4.4.2-0ubuntu0.22.04.1).\n",
            "0 upgraded, 0 newly installed, 0 to remove and 12 not upgraded.\n",
            "Collecting git+https://github.com/dsymbol/decipher\n",
            "  Cloning https://github.com/dsymbol/decipher to /tmp/pip-req-build-qlcmyq_4\n",
            "  Running command git clone --filter=blob:none --quiet https://github.com/dsymbol/decipher /tmp/pip-req-build-qlcmyq_4\n",
            "  Resolved https://github.com/dsymbol/decipher to commit bdb676ced6355fbedc98024528452bbe849ae32c\n",
            "  Preparing metadata (setup.py) ... \u001b[?25l\u001b[?25hdone\n",
            "Requirement already satisfied: openai-whisper==20230314 in /usr/local/lib/python3.10/dist-packages (from decipher==0.0.0) (20230314)\n",
            "Requirement already satisfied: click==8.1.3 in /usr/local/lib/python3.10/dist-packages (from decipher==0.0.0) (8.1.3)\n",
            "Requirement already satisfied: ffpb==0.4.1 in /usr/local/lib/python3.10/dist-packages (from decipher==0.0.0) (0.4.1)\n",
            "Requirement already satisfied: tqdm in /usr/local/lib/python3.10/dist-packages (from decipher==0.0.0) (4.65.0)\n",
            "Requirement already satisfied: triton==2.0.0 in /usr/local/lib/python3.10/dist-packages (from openai-whisper==20230314->decipher==0.0.0) (2.0.0)\n",
            "Requirement already satisfied: numba in /usr/local/lib/python3.10/dist-packages (from openai-whisper==20230314->decipher==0.0.0) (0.56.4)\n",
            "Requirement already satisfied: numpy in /usr/local/lib/python3.10/dist-packages (from openai-whisper==20230314->decipher==0.0.0) (1.22.4)\n",
            "Requirement already satisfied: torch in /usr/local/lib/python3.10/dist-packages (from openai-whisper==20230314->decipher==0.0.0) (2.0.1+cu118)\n",
            "Requirement already satisfied: more-itertools in /usr/local/lib/python3.10/dist-packages (from openai-whisper==20230314->decipher==0.0.0) (9.1.0)\n",
            "Requirement already satisfied: tiktoken==0.3.1 in /usr/local/lib/python3.10/dist-packages (from openai-whisper==20230314->decipher==0.0.0) (0.3.1)\n",
            "Requirement already satisfied: ffmpeg-python==0.2.0 in /usr/local/lib/python3.10/dist-packages (from openai-whisper==20230314->decipher==0.0.0) (0.2.0)\n",
            "Requirement already satisfied: future in /usr/local/lib/python3.10/dist-packages (from ffmpeg-python==0.2.0->openai-whisper==20230314->decipher==0.0.0) (0.18.3)\n",
            "Requirement already satisfied: regex>=2022.1.18 in /usr/local/lib/python3.10/dist-packages (from tiktoken==0.3.1->openai-whisper==20230314->decipher==0.0.0) (2022.10.31)\n",
            "Requirement already satisfied: requests>=2.26.0 in /usr/local/lib/python3.10/dist-packages (from tiktoken==0.3.1->openai-whisper==20230314->decipher==0.0.0) (2.27.1)\n",
            "Requirement already satisfied: cmake in /usr/local/lib/python3.10/dist-packages (from triton==2.0.0->openai-whisper==20230314->decipher==0.0.0) (3.25.2)\n",
            "Requirement already satisfied: filelock in /usr/local/lib/python3.10/dist-packages (from triton==2.0.0->openai-whisper==20230314->decipher==0.0.0) (3.12.2)\n",
            "Requirement already satisfied: lit in /usr/local/lib/python3.10/dist-packages (from triton==2.0.0->openai-whisper==20230314->decipher==0.0.0) (16.0.6)\n",
            "Requirement already satisfied: llvmlite<0.40,>=0.39.0dev0 in /usr/local/lib/python3.10/dist-packages (from numba->openai-whisper==20230314->decipher==0.0.0) (0.39.1)\n",
            "Requirement already satisfied: setuptools in /usr/local/lib/python3.10/dist-packages (from numba->openai-whisper==20230314->decipher==0.0.0) (67.7.2)\n",
            "Requirement already satisfied: typing-extensions in /usr/local/lib/python3.10/dist-packages (from torch->openai-whisper==20230314->decipher==0.0.0) (4.7.1)\n",
            "Requirement already satisfied: sympy in /usr/local/lib/python3.10/dist-packages (from torch->openai-whisper==20230314->decipher==0.0.0) (1.11.1)\n",
            "Requirement already satisfied: networkx in /usr/local/lib/python3.10/dist-packages (from torch->openai-whisper==20230314->decipher==0.0.0) (3.1)\n",
            "Requirement already satisfied: jinja2 in /usr/local/lib/python3.10/dist-packages (from torch->openai-whisper==20230314->decipher==0.0.0) (3.1.2)\n",
            "Requirement already satisfied: urllib3<1.27,>=1.21.1 in /usr/local/lib/python3.10/dist-packages (from requests>=2.26.0->tiktoken==0.3.1->openai-whisper==20230314->decipher==0.0.0) (1.26.16)\n",
            "Requirement already satisfied: certifi>=2017.4.17 in /usr/local/lib/python3.10/dist-packages (from requests>=2.26.0->tiktoken==0.3.1->openai-whisper==20230314->decipher==0.0.0) (2023.7.22)\n",
            "Requirement already satisfied: charset-normalizer~=2.0.0 in /usr/local/lib/python3.10/dist-packages (from requests>=2.26.0->tiktoken==0.3.1->openai-whisper==20230314->decipher==0.0.0) (2.0.12)\n",
            "Requirement already satisfied: idna<4,>=2.5 in /usr/local/lib/python3.10/dist-packages (from requests>=2.26.0->tiktoken==0.3.1->openai-whisper==20230314->decipher==0.0.0) (3.4)\n",
            "Requirement already satisfied: MarkupSafe>=2.0 in /usr/local/lib/python3.10/dist-packages (from jinja2->torch->openai-whisper==20230314->decipher==0.0.0) (2.1.3)\n",
            "Requirement already satisfied: mpmath>=0.19 in /usr/local/lib/python3.10/dist-packages (from sympy->torch->openai-whisper==20230314->decipher==0.0.0) (1.3.0)\n"
          ]
        }
      ]
    },
    {
      "cell_type": "markdown",
      "source": [
        "##Import Libraries\n",
        "Let's import the necessary libraries."
      ],
      "metadata": {
        "id": "wRATSLM4dIx_"
      }
    },
    {
      "cell_type": "code",
      "source": [
        "from decipher.action import transcribe\n",
        "import os\n"
      ],
      "metadata": {
        "id": "lIw6Y80NSuOT"
      },
      "execution_count": null,
      "outputs": []
    },
    {
      "cell_type": "markdown",
      "source": [
        "##Function Definition\n",
        "Here, we define a function perform_transcription that will execute the video transcription."
      ],
      "metadata": {
        "id": "jckTsSQFe12z"
      }
    },
    {
      "cell_type": "code",
      "source": [
        "def perform_transcription(input_file, output_dir, model=\"medium\", language=\"en\", task=\"transcribe\", subtitle_action=None):\n",
        "    current_dir = os.getcwd()\n",
        "    try:\n",
        "        transcribe(input_file, output_dir if output_dir else \"result\", model if model else \"small\", language if language else None, task, subtitle_action if subtitle_action != \"None\" else None)\n",
        "    except Exception as e:\n",
        "        print(f\"Error occurred: {e}\")\n",
        "    finally:\n",
        "        os.chdir(current_dir)\n",
        "\n",
        "\n"
      ],
      "metadata": {
        "id": "8P6dyxbuevJ2"
      },
      "execution_count": null,
      "outputs": []
    },
    {
      "cell_type": "markdown",
      "source": [
        "##Transcription\n",
        "Now, let's perform the transcription of a video. This will generate the subtitles."
      ],
      "metadata": {
        "id": "rLV0zncVfBVU"
      }
    },
    {
      "cell_type": "code",
      "source": [
        "# Example usage:\n",
        "input_file = \"/content/Test_Submagic.mp4\"\n",
        "output_directory = \"/content/sample_data\"\n",
        "transcription_model = \"medium\"\n",
        "transcription_language = \"en\"\n",
        "transcription_task = \"transcribe\"\n",
        "subtitle_action = \"None\"\n",
        "\n",
        "perform_transcription(input_file, output_directory, transcription_model, transcription_language, transcription_task, subtitle_action)"
      ],
      "metadata": {
        "id": "o9LYFVsxfAGw",
        "colab": {
          "base_uri": "https://localhost:8080/"
        },
        "outputId": "276d5174-4bae-480b-8828-eef25365ab2e"
      },
      "execution_count": null,
      "outputs": [
        {
          "output_type": "stream",
          "name": "stdout",
          "text": [
            "Converting Test_Submagic.mp4 to Test_Submagic.aac...\n"
          ]
        },
        {
          "output_type": "stream",
          "name": "stderr",
          "text": [
            "Test_Submagic.mp4: 100%|██████████| 1560/1560 [00:00<00:00, 5627.92 frames/s]\n"
          ]
        },
        {
          "output_type": "stream",
          "name": "stdout",
          "text": [
            "[00:00.000 --> 00:04.880]  I'll take your hand, hold it closer to my hand\n",
            "[00:04.880 --> 00:08.640]  I'll love you as dead as I am changed\n",
            "[00:08.640 --> 00:11.640]  I'll love you as dead as I am changed\n",
            "[00:11.640 --> 00:16.640]  My heart is stereo, it beats for you so listen close\n",
            "[00:16.640 --> 00:19.640]  Hear my heart, it's a little cold\n",
            "[00:19.640 --> 00:22.640]  Oh, oh, oh\n",
            "[00:22.640 --> 00:25.640]  Hear my heart, it's a little cold\n",
            "[00:25.640 --> 00:27.640]  I'll tell you I'm pretty good\n",
            "Output -> /content/sample_data\n"
          ]
        }
      ]
    },
    {
      "cell_type": "markdown",
      "source": [
        "##Writing Subtitles into Video\n",
        "Finally, let's burn the obtained subtitles into the video. We will use the subtitle function"
      ],
      "metadata": {
        "id": "Wf96BBtVeodZ"
      }
    },
    {
      "cell_type": "code",
      "source": [
        "### for writing subtitles obtained above into the video ..\n",
        "input = \"/content/Test_Submagic.mp4\"\n",
        "output_dir = \"result\"\n",
        "subtitle_file = \"/content/sample_data/Test_Submagic.srt\"\n",
        "subtitle_action = \"burn\"\n",
        "\n",
        "from decipher.action import subtitle\n",
        "\n",
        "dir = os.getcwd()\n",
        "subtitle(\n",
        "    input,\n",
        "    output_dir,\n",
        "    subtitle_file,\n",
        "    subtitle_action\n",
        ")\n",
        "\n",
        "os.chdir(dir)"
      ],
      "metadata": {
        "id": "1nrM4BmPSuxF",
        "colab": {
          "base_uri": "https://localhost:8080/"
        },
        "outputId": "c32276b1-9bac-4094-83d5-90cdb439775d"
      },
      "execution_count": null,
      "outputs": [
        {
          "output_type": "stream",
          "name": "stdout",
          "text": [
            "Converting `SubRip Subtitle file` to `Advanced SubStation Alpha file`\n"
          ]
        },
        {
          "output_type": "stream",
          "name": "stderr",
          "text": [
            "Test_Submagic.srt: 25 seconds [00:00, 33727.11 seconds/s]"
          ]
        },
        {
          "output_type": "stream",
          "name": "stdout",
          "text": [
            "Burning `Advanced SubStation Alpha file` into Test_Submagic.mp4...\n"
          ]
        },
        {
          "output_type": "stream",
          "name": "stderr",
          "text": [
            "\n",
            "Test_Submagic.mp4: 100%|██████████| 1560/1560 [03:46<00:00,  6.88 frames/s]"
          ]
        },
        {
          "output_type": "stream",
          "name": "stdout",
          "text": [
            "Output -> /content/result/result/result/result/result/result/result/result/result/result\n"
          ]
        },
        {
          "output_type": "stream",
          "name": "stderr",
          "text": [
            "\n"
          ]
        }
      ]
    },
    {
      "cell_type": "markdown",
      "source": [
        "# Conclusion\n",
        "\n",
        "In this notebook, we do to transcribe a video and burn the subtitles into it. It's a straightforward way to perform transcription and subtitling using Python. Make sure to modify the `input_file`, `output_directory`, and `subtitle_file` with your actual video and directory path to run it successfully. Feel free to let us know if you need any assitance.\n",
        "\n"
      ],
      "metadata": {
        "id": "MvEstqUUfWeg"
      }
    }
  ]
}